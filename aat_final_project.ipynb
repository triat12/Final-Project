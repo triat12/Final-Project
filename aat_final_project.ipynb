{
 "cells": [
  {
   "cell_type": "markdown",
   "metadata": {},
   "source": [
    "# FINAL PROJECT"
   ]
  },
  {
   "cell_type": "code",
   "execution_count": 31,
   "metadata": {},
   "outputs": [
    {
     "name": "stdin",
     "output_type": "stream",
     "text": [
      "Type your password and press enter:  Yustisi12\n"
     ]
    }
   ],
   "source": [
    "#Turn Allow less secure apps to ON in our gmail account \n",
    "# URL: https://myaccount.google.com/u/2/lesssecureapps?pli=1&rapt=AEjHL4OL7qR_zb2FxdEh5qTqWofNNuInf3Jh8TBDDKDPNSNL8XCPljgsXFglSEUNKBjg93wQlQhIKbTfG8u2-CAEM07JL_A-gg\n",
    "\n",
    "# create file\n",
    "# buat file csv (bisa txt) csv memudahkan untuk melihat receiver secara baris per baris (dengan tabel)\n",
    "\n",
    "import csv, smtplib, ssl\n",
    "from email.mime.multipart import MIMEMultipart\n",
    "from email.mime.text import MIMEText\n",
    "from email.mime.base import MIMEBase\n",
    "from email import encoders\n",
    "#lebih mudah dengan csv  \n",
    "# For SSL \n",
    "# Salah satu opsi untuk setting up a Local SMTP Server\n",
    "\n",
    "#f = open(\"receiver_list.csv\", \"a\")\n",
    "#f.write(\"\\nEnggar,arini.enggar@gmail.com,Kamu Lulus\") # write & append, incase mau menambahkan recipients dengan format ini\n",
    "#f.write(\"\\nnama penerima.alamat email penerima,konten\") \n",
    "f.close()\n",
    "\n",
    "#print(f.read()) # untuk membaca konten file\n",
    "\n",
    "message = \"\"\"Subject: Percobaan Pengiriman Email \n",
    "\n",
    "Hello {name}, SELAMAT, kamu telah melakukan pembelajaran Basic Python 1 dengan Baik, \\nBerikut hasilnya \\n {hasil_test}\"\"\"\n",
    "\n",
    "#Attachment belum selesai\n",
    "#https://www.tutorialspoint.com/send-mail-with-attachment-from-your-gmail-account-using-python\n",
    "#The body and the attachments for the mail\n",
    "#message.attach(MIMEText(message, 'plain'))\n",
    "#attach_file_name = 'attachment.txt'\n",
    "#attach_file = open(attach_file_name, 'rb') # Open the file as binary mode\n",
    "#payload = MIMEBase('application', 'octate-stream')\n",
    "#payload.set_payload((attach_file).read())\n",
    "#encoders.encode_base64(payload) #encode the attachment\n",
    "#add payload header with filename\n",
    "#payload.add_header('Content-Decomposition', 'attachment', filename=attach_file_name)\n",
    "#message.attach(payload)\n",
    "\n",
    "from_address = \"download.atmaja@gmail.com\"\n",
    "password = input(\"Type your password and press enter: \")\n",
    "\n",
    "# Create a secure SMTP_SSL server, port 465/1025/587.\n",
    "#source: https://realpython.com/python-send-email/\n",
    "\n",
    "#sends an email using SMTP_SSL()\n",
    "context = ssl.create_default_context()      \n",
    "with smtplib.SMTP_SSL(\"smtp.gmail.com\", 465, context=context) as server:\n",
    "    #TODO: sender detail\n",
    "    server.login(from_address, password)   \n",
    "    \n",
    "    # TODO: Send email here (recipients)\n",
    "    with open(\"receiver_list.csv\") as file:   #untuk membuka file yang telah dibuat\n",
    "        recipients = csv.reader(file)\n",
    "        next(recipients)  # Skip header row\n",
    "        for name, email, hasil_test in recipients:\n",
    "            server.sendmail(            #isi berupa alamat penerima, email penerima dan isi pesannya\n",
    "                from_address,\n",
    "                email,\n",
    "                message.format(name=name,hasil_test=hasil_test),\n",
    "            )"
   ]
  },
  {
   "cell_type": "code",
   "execution_count": null,
   "metadata": {},
   "outputs": [],
   "source": []
  }
 ],
 "metadata": {
  "kernelspec": {
   "display_name": "Python 3",
   "language": "python",
   "name": "python3"
  },
  "language_info": {
   "codemirror_mode": {
    "name": "ipython",
    "version": 3
   },
   "file_extension": ".py",
   "mimetype": "text/x-python",
   "name": "python",
   "nbconvert_exporter": "python",
   "pygments_lexer": "ipython3",
   "version": "3.9.1"
  }
 },
 "nbformat": 4,
 "nbformat_minor": 4
}
